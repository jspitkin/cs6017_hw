{
 "cells": [
  {
   "cell_type": "markdown",
   "metadata": {},
   "source": [
    "# Homework 3: Intoduction to Data Science\n",
    "\n",
    "## Due Tuesday, June 5, start of class\n",
    "\n",
    "### Jake Pitkin"
   ]
  },
  {
   "cell_type": "markdown",
   "metadata": {},
   "source": [
    "### Part 1 Data Aquisition"
   ]
  },
  {
   "cell_type": "code",
   "execution_count": 425,
   "metadata": {
    "collapsed": true
   },
   "outputs": [],
   "source": [
    "from bs4 import BeautifulSoup\n",
    "import urllib.request\n",
    "import pandas as pd\n",
    "import scipy as sc\n",
    "import numpy as np\n",
    "import statsmodels.formula.api as sm\n",
    "import matplotlib.pyplot as plt\n",
    "import time"
   ]
  },
  {
   "cell_type": "code",
   "execution_count": 426,
   "metadata": {
    "collapsed": true
   },
   "outputs": [],
   "source": [
    "# Download the first 5 pages of HackerNews\n",
    "for i in range(1, 6):\n",
    "    url = \"https://news.ycombinator.com/news?p=\" + str(i)\n",
    "    with urllib.request.urlopen(url) as response:\n",
    "        html = response.read()\n",
    "        html = html.decode('utf-8')\n",
    "\n",
    "    # save the file\n",
    "    with open(\"hackernews_pages/page_\" + str(i) + \".html\", 'w') as new_file:\n",
    "        new_file.write(html)\n",
    "    time.sleep(5)"
   ]
  },
  {
   "cell_type": "code",
   "execution_count": 438,
   "metadata": {},
   "outputs": [],
   "source": [
    "def convert_to_hours(s):\n",
    "    ''' Converts a string to it's hour representation.\n",
    "        If less than an hour, rounded up to an hour.'''\n",
    "    if \"minutes\" in s or \"minute\" in s:\n",
    "        return 1\n",
    "    if \"hours\" in s:\n",
    "        return s.replace(\" hours ago\", \"\")\n",
    "    if \"hour\" in s:\n",
    "        return s.replace(\" hour ago\", \"\")\n",
    "    if \"days\" in s:\n",
    "        return s.replace(\" days ago\", \"\")\n",
    "    if \"day\" in s:\n",
    "        return s.replace(\" day ago\", \"\")\n",
    "    return s\n",
    "\n",
    "# Read 5 pages from disk and create soup objects\n",
    "pages = []\n",
    "for i in range(1, 6):\n",
    "    page = BeautifulSoup(open(\"hackernews_pages/page_\" + str(i) + \".html\"), \"html.parser\")\n",
    "    pages.append(page)\n",
    "\n",
    "# Create an entry for each repository\n",
    "news_info = pd.DataFrame(columns=['rank', 'len_title', 'age', 'n_points', 'n_comments'])\n",
    "\n",
    "for page in pages:\n",
    "    subtexts = page.select(\".subtext\")\n",
    "    for index, story in enumerate(page.select(\".athing\")):\n",
    "        try:\n",
    "            subtext = subtexts[index]\n",
    "            rank = story.select(\".rank\")[0].get_text().replace(\".\", \"\")\n",
    "            len_title = len(story.select(\".storylink\")[0].get_text())\n",
    "            age = convert_to_hours(subtext.select(\".age\")[0].get_text())\n",
    "            if len(subtext.select(\".score\")) == 0:\n",
    "                n_points = 0\n",
    "            else:\n",
    "                n_points = subtext.select(\".score\")[0].get_text().replace(\" points\", \"\")\n",
    "            n_comments = subtext.find_all(\"a\")[-1].get_text().replace(\"comments\", \"\")\n",
    "        except Exception as e:\n",
    "            print(e)\n",
    "            continue\n",
    "        news_info = news_info.append({'rank':name, 'len_title':url, 'age':commits, 'n_points':forks,\n",
    "                                        'n_comments':contributors}, ignore_index=True)\n",
    "\n",
    "# Save dataframe to disk\n",
    "news_info.to_csv(\"news_info.csv\", sep=',', index=False)"
   ]
  },
  {
   "cell_type": "markdown",
   "metadata": {},
   "source": [
    "### Part 2 Regression"
   ]
  },
  {
   "cell_type": "code",
   "execution_count": null,
   "metadata": {
    "collapsed": true
   },
   "outputs": [],
   "source": []
  },
  {
   "cell_type": "markdown",
   "metadata": {},
   "source": [
    "### Part 3 Classification"
   ]
  }
 ],
 "metadata": {
  "kernelspec": {
   "display_name": "Python 3",
   "language": "python",
   "name": "python3"
  },
  "language_info": {
   "codemirror_mode": {
    "name": "ipython",
    "version": 3
   },
   "file_extension": ".py",
   "mimetype": "text/x-python",
   "name": "python",
   "nbconvert_exporter": "python",
   "pygments_lexer": "ipython3",
   "version": "3.6.3"
  }
 },
 "nbformat": 4,
 "nbformat_minor": 2
}
