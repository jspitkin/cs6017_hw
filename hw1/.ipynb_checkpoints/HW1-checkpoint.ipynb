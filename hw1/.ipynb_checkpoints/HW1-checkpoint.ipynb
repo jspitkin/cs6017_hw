{
 "cells": [
  {
   "cell_type": "markdown",
   "metadata": {},
   "source": [
    "# Homework 1: Python intro and simple statistics\n",
    "\n",
    "## Due Tuesday, May 22, start of class\n",
    "\n",
    "### Python/Numpy"
   ]
  },
  {
   "cell_type": "code",
   "execution_count": 18,
   "metadata": {},
   "outputs": [
    {
     "name": "stdout",
     "output_type": "stream",
     "text": [
      "10.0\n",
      "2.0\n",
      "1.4142135623730951\n"
     ]
    }
   ],
   "source": [
    "import math\n",
    "\n",
    "def mean(values):\n",
    "    mean = 0\n",
    "    for value in values:\n",
    "        mean += value\n",
    "    return mean / len(values)\n",
    "\n",
    "\n",
    "def standard_deviation(values):\n",
    "    m = mean(values)\n",
    "    std = 0\n",
    "    for value in values:\n",
    "        std += (value - m) ** 2\n",
    "    std = std / len(values)\n",
    "    return math.sqrt(std)\n",
    "\n"
   ]
  },
  {
   "cell_type": "code",
   "execution_count": null,
   "metadata": {
    "collapsed": true
   },
   "outputs": [],
   "source": []
  }
 ],
 "metadata": {
  "kernelspec": {
   "display_name": "Python 3",
   "language": "python",
   "name": "python3"
  },
  "language_info": {
   "codemirror_mode": {
    "name": "ipython",
    "version": 3
   },
   "file_extension": ".py",
   "mimetype": "text/x-python",
   "name": "python",
   "nbconvert_exporter": "python",
   "pygments_lexer": "ipython3",
   "version": "3.6.3"
  }
 },
 "nbformat": 4,
 "nbformat_minor": 2
}
