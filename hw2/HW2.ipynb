{
 "cells": [
  {
   "cell_type": "markdown",
   "metadata": {},
   "source": [
    "# Homework 2: A/B Hypothesis Testing and Regression\n",
    "\n",
    "## Due Tuesday, May 29, start of class\n",
    "\n",
    "### Jake Pitkin"
   ]
  },
  {
   "cell_type": "markdown",
   "metadata": {},
   "source": [
    "## Part 1 : A/B Hypothesis Testing"
   ]
  },
  {
   "cell_type": "markdown",
   "metadata": {},
   "source": [
    "Null hypothesis: Ad A and ad B are the same. That is a_prob - b_prob = 0."
   ]
  },
  {
   "cell_type": "code",
   "execution_count": 99,
   "metadata": {},
   "outputs": [
    {
     "name": "stdout",
     "output_type": "stream",
     "text": [
      "p_hat: 0.525\n",
      "q_hat: 0.475\n",
      "Z: -2.2388683142\n",
      "p-value: 0.98741775715\n",
      "Null hypothesis rejected with 5% significance level.\n"
     ]
    }
   ],
   "source": [
    "import scipy as sc\n",
    "from scipy.stats import norm\n",
    "\n",
    "a_views = 1000\n",
    "a_clicks = 500\n",
    "a_prob = a_clicks/a_views\n",
    "\n",
    "b_views = 1000\n",
    "b_clicks = 550\n",
    "b_prob = b_clicks/b_views\n",
    "\n",
    "p_hat = (a_clicks + b_clicks)/(a_views + b_views)\n",
    "q_hat = 1 - p_hat\n",
    "print(\"p_hat:\", p_hat)\n",
    "print(\"q_hat:\", q_hat)\n",
    "\n",
    "z = (a_prob - b_prob) / sc.sqrt(p_hat*q_hat*(1/a_views + 1/b_views))\n",
    "print(\"Z:\", z)\n",
    "\n",
    "p_value = 1 - norm.cdf(z)\n",
    "print(\"p-value:\", p_value)\n",
    "\n",
    "if p_value < 0.01 or p_value > 0.99:\n",
    "    print(\"Null hypothesis rejected with 1% significance level.\")\n",
    "if p_value < 0.05 or p_value > 0.95:\n",
    "    print(\"Null hypothesis rejected with 5% significance level.\")"
   ]
  },
  {
   "cell_type": "markdown",
   "metadata": {},
   "source": [
    "## Part 2: Regression of real estate data"
   ]
  },
  {
   "cell_type": "markdown",
   "metadata": {},
   "source": [
    "### Task 1: Import the data"
   ]
  },
  {
   "cell_type": "code",
   "execution_count": 34,
   "metadata": {},
   "outputs": [
    {
     "data": {
      "text/plain": [
       "array(['ListNo', 'Access', 'AdditInfo', 'Acres', 'ListAgt', 'AirType',\n",
       "       'Amenities', 'Area', 'BackDim', 'Basemnt', 'BsmntFin', 'City',\n",
       "       'ListCoAgt', 'CompBac', 'CompDays', 'CompSac', 'ContPh1', 'ContPh2',\n",
       "       'Contact', 'ContractDt', 'County', 'CrprtCap', 'DVR', 'DaysOnMkt',\n",
       "       'Deck', 'DirPre', 'DirPost', 'EWCoord', 'EntrdBy', 'EntryDt',\n",
       "       'Excl', 'ExpDtDisp', 'Ext', 'FeatExt', 'FeatInt', 'Floor',\n",
       "       'Frontage', 'GaragCap', 'Garage', 'HOAFee', 'HOATerms', 'Heat',\n",
       "       'HouseNbr', 'Image', 'Incl', 'Irregular', 'LandScape', 'Latitude',\n",
       "       'ListDt', 'ListType', 'Longitude', 'Lot', 'LstPrice', 'NSCoord',\n",
       "       'NumDish', 'NumDispose', 'NumOvRng', 'NumRefg', 'OffMktDt',\n",
       "       'ListOff', 'OpenHseDt', 'Owner', 'P1Bed', 'P1BthFull', 'P1BthHalf',\n",
       "       'P1BthTq', 'P1Fire', 'P1Rent', 'P1Sqf', 'P1FamDen', 'P1Kitch',\n",
       "       'P1Bar', 'P1Formal', 'P1SemiForm', 'P1Laundry', 'P2Bed',\n",
       "       'P2BthFull', 'P2BthHalf', 'P2BthTq', 'P2Fire', 'P2Rent', 'P2Sqf',\n",
       "       'P2FamDen', 'P2Kitch', 'P2Bar', 'P2Formal', 'P2SemiForm',\n",
       "       'P2Laundry', 'P3Bed', 'P3BthFull', 'P3BthHalf', 'P3BthTq', 'P3Fire',\n",
       "       'P3Rent', 'P3Sqf', 'P3FamDen', 'P3Kitch', 'P3Bar', 'P3Formal',\n",
       "       'P3SemiForm', 'P3Laundry', 'P4Bed', 'P4BthFull', 'P4BthHalf',\n",
       "       'P4BthTq', 'P4Fire', 'P4Rent', 'P4Sqf', 'P4FamDen', 'P4Kitch',\n",
       "       'P4Bar', 'P4Formal', 'P4SemiForm', 'P4Laundry', 'P5Bed',\n",
       "       'P5BthFull', 'P5BthHalf', 'P5BthTq', 'P5Fire', 'P5Rent', 'P5Sqf',\n",
       "       'P5FamDen', 'P5Kitch', 'P5Bar', 'P5Formal', 'P5SemiForm',\n",
       "       'P5Laundry', 'Patio', 'PkgSpacs', 'Pool', 'Possess', 'PropType',\n",
       "       'PublicID', 'Quadrant', 'RMPriceLow', 'ReinstDt', 'Remarks', 'Roof',\n",
       "       'Rstrct', 'SchDist', 'SchElem', 'SchJunior', 'SchSenior',\n",
       "       'SchOther', 'SchPrivate', 'Sewer', 'Show', 'SideDim', 'SlAgentID',\n",
       "       'SlAgentPub', 'SldOfcID', 'SlrPaidCns', 'SoldDt', 'SoldPrice',\n",
       "       'SoldTerms', 'StatCode', 'StatDate', 'State', 'Status', 'StrType',\n",
       "       'Street', 'Style', 'SubAgncy', 'Subdiv', 'TaxID', 'Taxes', 'Terms',\n",
       "       'TimeClause', 'TotAirElc', 'TotAirEvp', 'TotAirGas', 'TotAirPmp',\n",
       "       'TotAirSol', 'TotAirWElC', 'TotBar', 'TotBed', 'TotBth',\n",
       "       'TotBthFul', 'TotBthHal', 'TotBthTq', 'TotFamRm', 'TotFire',\n",
       "       'TotFormal', 'TotKitch', 'TotLdy', 'TotRent', 'TotSemi', 'TotSqf',\n",
       "       'TotWinEvp', 'UndrCnst', 'UnitNbr', 'Water', 'WinEle1', 'WinEle2',\n",
       "       'WinEle3', 'WinEle4', 'WinEvp1', 'WinEvp2', 'WinEvp3', 'WinEvp4',\n",
       "       'Window', 'WithDrDt', 'YearBlt', 'Zip', 'Zoning', 'LastMod'], dtype=object)"
      ]
     },
     "execution_count": 34,
     "metadata": {},
     "output_type": "execute_result"
    }
   ],
   "source": [
    "import pandas as pd\n",
    "\n",
    "real_estate_one = pd.read_csv(\"realEstate1.csv\", sep=',')\n",
    "real_estate_two = pd.read_csv(\"realEstate2.csv\", sep=',')\n",
    "df = pd.concat([real_estate_one, real_estate_two], ignore_index=True)\n",
    "df.columns.values"
   ]
  },
  {
   "cell_type": "markdown",
   "metadata": {},
   "source": [
    "### Task 2: Clean the data"
   ]
  },
  {
   "cell_type": "code",
   "execution_count": 36,
   "metadata": {},
   "outputs": [
    {
     "name": "stdout",
     "output_type": "stream",
     "text": [
      "(260, 15)\n"
     ]
    }
   ],
   "source": [
    "# Remove houses that don't have a list price between $200,000 and $1,000,000\n",
    "df = df.drop(df[(df['LstPrice'] <= 200000) | (df['LstPrice'] >= 1000000)].index)\n",
    "\n",
    "# Only keep attributes we are interested in\n",
    "df = df[['Acres', 'Deck', 'GaragCap', 'Latitude', 'Longitude', 'LstPrice', 'Patio', \n",
    "         'PkgSpacs', 'PropType', 'SoldPrice', 'Taxes', 'TotBed', 'TotBth', 'TotSqf', 'YearBlt']].copy()\n",
    "\n"
   ]
  },
  {
   "cell_type": "code",
   "execution_count": null,
   "metadata": {
    "collapsed": true
   },
   "outputs": [],
   "source": []
  }
 ],
 "metadata": {
  "kernelspec": {
   "display_name": "Python 3",
   "language": "python",
   "name": "python3"
  },
  "language_info": {
   "codemirror_mode": {
    "name": "ipython",
    "version": 3
   },
   "file_extension": ".py",
   "mimetype": "text/x-python",
   "name": "python",
   "nbconvert_exporter": "python",
   "pygments_lexer": "ipython3",
   "version": "3.6.3"
  }
 },
 "nbformat": 4,
 "nbformat_minor": 2
}
