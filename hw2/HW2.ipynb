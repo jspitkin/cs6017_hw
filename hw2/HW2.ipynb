{
 "cells": [
  {
   "cell_type": "markdown",
   "metadata": {},
   "source": [
    "# Homework 2: A/B Hypothesis Testing and Regression\n",
    "\n",
    "## Due Tuesday, May 29, start of class\n",
    "\n",
    "### Jake Pitkin"
   ]
  },
  {
   "cell_type": "markdown",
   "metadata": {},
   "source": [
    "## Part 1 : A/B Hypothesis Testing"
   ]
  },
  {
   "cell_type": "markdown",
   "metadata": {},
   "source": [
    "Null hypothesis: Ad A and ad B are the same. That is a_prob - b_prob = 0."
   ]
  },
  {
   "cell_type": "code",
   "execution_count": 108,
   "metadata": {},
   "outputs": [
    {
     "name": "stdout",
     "output_type": "stream",
     "text": [
      "p_hat: 0.525\n",
      "q_hat: 0.475\n",
      "Z: -2.2388683142\n",
      "p-value: 0.98741775715\n",
      "Null hypothesis rejected with 5% significance level.\n"
     ]
    }
   ],
   "source": [
    "import scipy as sc\n",
    "from scipy.stats import norm\n",
    "\n",
    "a_views = 1000\n",
    "a_clicks = 500\n",
    "a_prob = a_clicks/a_views\n",
    "\n",
    "b_views = 1000\n",
    "b_clicks = 550\n",
    "b_prob = b_clicks/b_views\n",
    "\n",
    "p_hat = (a_clicks + b_clicks)/(a_views + b_views)\n",
    "q_hat = 1 - p_hat\n",
    "print(\"p_hat:\", p_hat)\n",
    "print(\"q_hat:\", q_hat)\n",
    "\n",
    "z = (a_prob - b_prob) / sc.sqrt(p_hat*q_hat*(1/a_views + 1/b_views))\n",
    "print(\"Z:\", z)\n",
    "\n",
    "p_value = 1 - norm.cdf(z)\n",
    "print(\"p-value:\", p_value)\n",
    "\n",
    "if p_value < 0.01 or p_value > 0.99:\n",
    "    print(\"Null hypothesis rejected with 1% significance level.\")\n",
    "if p_value < 0.05 or p_value > 0.95:\n",
    "    print(\"Null hypothesis rejected with 5% significance level.\")"
   ]
  },
  {
   "cell_type": "markdown",
   "metadata": {},
   "source": [
    "## Part 2: Regression of real estate data"
   ]
  },
  {
   "cell_type": "markdown",
   "metadata": {},
   "source": [
    "### Task 1: Import the data"
   ]
  },
  {
   "cell_type": "code",
   "execution_count": 200,
   "metadata": {},
   "outputs": [],
   "source": [
    "import pandas as pd\n",
    "import numpy as np\n",
    "import matplotlib.pyplot as plt\n",
    "\n",
    "real_estate_one = pd.read_csv(\"realEstate1.csv\", sep=',')\n",
    "real_estate_two = pd.read_csv(\"realEstate2.csv\", sep=',')\n",
    "df = pd.concat([real_estate_one, real_estate_two], ignore_index=True)"
   ]
  },
  {
   "cell_type": "markdown",
   "metadata": {},
   "source": [
    "### Task 2: Clean the data"
   ]
  },
  {
   "cell_type": "code",
   "execution_count": 201,
   "metadata": {},
   "outputs": [],
   "source": [
    "# Remove houses that don't have a list price between $200,000 and $1,000,000\n",
    "df = df.drop(df[(df['LstPrice'] <= 200000) | (df['LstPrice'] >= 1000000)].index)\n",
    "\n",
    "# Only keep attributes we are interested in\n",
    "df = df[['Acres', 'Deck', 'GaragCap', 'Latitude', 'Longitude', 'LstPrice', 'Patio', \n",
    "         'PkgSpacs', 'PropType', 'SoldPrice', 'Taxes', 'TotBed', 'TotBth', 'TotSqf', 'YearBlt']].copy()\n",
    "\n",
    "# Correct the data types for the attributes we are interested in\n",
    "df['TotSqf'] = df['TotSqf'].str.replace(',','').astype(int)\n",
    "\n",
    "# Add numerical value for Property Type category\n",
    "# 1 for a Single Family home and 0 otherwise\n",
    "df['Prop_Type_num'] = 0\n",
    "for index, row in df.iterrows():\n",
    "    if  df.loc[index,'PropType'] == \"Single Family\":\n",
    "        df.loc[index,'Prop_Type_num'] = 1\n",
    "\n",
    "# Drop listing with Longitude of 0\n",
    "df = df.drop(df[df['Longitude'] == 0.0].index)\n",
    "\n",
    "# Drop listings with unreasonably large Taxes\n",
    "df = df.drop(df[df['Taxes'] > 90000].index)"
   ]
  },
  {
   "cell_type": "markdown",
   "metadata": {},
   "source": [
    "### Task 3: Exploratory data analysis"
   ]
  },
  {
   "cell_type": "code",
   "execution_count": 270,
   "metadata": {},
   "outputs": [
    {
     "name": "stdout",
     "output_type": "stream",
     "text": [
      "The dataset contains 257 elements.\n",
      "It contains 16 different variables.\n"
     ]
    },
    {
     "ename": "AttributeError",
     "evalue": "'numpy.ndarray' object has no attribute 'remove'",
     "output_type": "error",
     "traceback": [
      "\u001b[0;31m---------------------------------------------------------------------------\u001b[0m",
      "\u001b[0;31mAttributeError\u001b[0m                            Traceback (most recent call last)",
      "\u001b[0;32m<ipython-input-270-0b97200d1597>\u001b[0m in \u001b[0;36m<module>\u001b[0;34m()\u001b[0m\n\u001b[1;32m     13\u001b[0m \u001b[0mplt\u001b[0m\u001b[0;34m.\u001b[0m\u001b[0mfigure\u001b[0m\u001b[0;34m(\u001b[0m\u001b[0mfigsize\u001b[0m\u001b[0;34m=\u001b[0m\u001b[0;34m(\u001b[0m\u001b[0;36m12\u001b[0m\u001b[0;34m,\u001b[0m \u001b[0;36m5\u001b[0m\u001b[0;34m)\u001b[0m\u001b[0;34m)\u001b[0m\u001b[0;34m\u001b[0m\u001b[0m\n\u001b[1;32m     14\u001b[0m \u001b[0mheatmap\u001b[0m \u001b[0;34m=\u001b[0m \u001b[0mplt\u001b[0m\u001b[0;34m.\u001b[0m\u001b[0mpcolor\u001b[0m\u001b[0;34m(\u001b[0m\u001b[0mdf\u001b[0m\u001b[0;34m.\u001b[0m\u001b[0mcorr\u001b[0m\u001b[0;34m(\u001b[0m\u001b[0;34m)\u001b[0m\u001b[0;34m,\u001b[0m \u001b[0mcmap\u001b[0m\u001b[0;34m=\u001b[0m\u001b[0mplt\u001b[0m\u001b[0;34m.\u001b[0m\u001b[0mcm\u001b[0m\u001b[0;34m.\u001b[0m\u001b[0mBlues\u001b[0m\u001b[0;34m,\u001b[0m \u001b[0mvmin\u001b[0m\u001b[0;34m=\u001b[0m\u001b[0;34m-\u001b[0m\u001b[0;36m1\u001b[0m\u001b[0;34m,\u001b[0m \u001b[0mvmax\u001b[0m\u001b[0;34m=\u001b[0m\u001b[0;36m1\u001b[0m\u001b[0;34m)\u001b[0m\u001b[0;34m\u001b[0m\u001b[0m\n\u001b[0;32m---> 15\u001b[0;31m \u001b[0mplt\u001b[0m\u001b[0;34m.\u001b[0m\u001b[0mxticks\u001b[0m\u001b[0;34m(\u001b[0m\u001b[0mnp\u001b[0m\u001b[0;34m.\u001b[0m\u001b[0marange\u001b[0m\u001b[0;34m(\u001b[0m\u001b[0;36m0.5\u001b[0m\u001b[0;34m,\u001b[0m \u001b[0;36m15\u001b[0m\u001b[0;34m,\u001b[0m \u001b[0mstep\u001b[0m\u001b[0;34m=\u001b[0m\u001b[0;36m1\u001b[0m\u001b[0;34m)\u001b[0m\u001b[0;34m,\u001b[0m \u001b[0mdf\u001b[0m\u001b[0;34m.\u001b[0m\u001b[0mcolumns\u001b[0m\u001b[0;34m.\u001b[0m\u001b[0mvalues\u001b[0m\u001b[0;34m.\u001b[0m\u001b[0mremove\u001b[0m\u001b[0;34m(\u001b[0m\u001b[0;34m'PropType'\u001b[0m\u001b[0;34m)\u001b[0m\u001b[0;34m,\u001b[0m \u001b[0mrotation\u001b[0m\u001b[0;34m=\u001b[0m\u001b[0;36m270\u001b[0m\u001b[0;34m)\u001b[0m\u001b[0;34m\u001b[0m\u001b[0m\n\u001b[0m\u001b[1;32m     16\u001b[0m \u001b[0mplt\u001b[0m\u001b[0;34m.\u001b[0m\u001b[0myticks\u001b[0m\u001b[0;34m(\u001b[0m\u001b[0mnp\u001b[0m\u001b[0;34m.\u001b[0m\u001b[0marange\u001b[0m\u001b[0;34m(\u001b[0m\u001b[0;36m0.5\u001b[0m\u001b[0;34m,\u001b[0m \u001b[0;36m15\u001b[0m\u001b[0;34m,\u001b[0m \u001b[0mstep\u001b[0m\u001b[0;34m=\u001b[0m\u001b[0;36m1\u001b[0m\u001b[0;34m)\u001b[0m\u001b[0;34m,\u001b[0m \u001b[0mdf\u001b[0m\u001b[0;34m.\u001b[0m\u001b[0mcolumns\u001b[0m\u001b[0;34m.\u001b[0m\u001b[0mvalues\u001b[0m\u001b[0;34m)\u001b[0m\u001b[0;34m\u001b[0m\u001b[0m\n\u001b[1;32m     17\u001b[0m \u001b[0mplt\u001b[0m\u001b[0;34m.\u001b[0m\u001b[0mcolorbar\u001b[0m\u001b[0;34m(\u001b[0m\u001b[0mheatmap\u001b[0m\u001b[0;34m)\u001b[0m\u001b[0;34m\u001b[0m\u001b[0m\n",
      "\u001b[0;31mAttributeError\u001b[0m: 'numpy.ndarray' object has no attribute 'remove'"
     ]
    },
    {
     "data": {
      "image/png": "[encoded data removed]",
      "text/plain": [
       "<matplotlib.figure.Figure at 0x1a1cb5eeb8>"
      ]
     },
     "metadata": {},
     "output_type": "display_data"
    },
    {
     "data": {
      "image/png": "[encoded data removed]",
      "text/plain": [
       "<matplotlib.figure.Figure at 0x1a1cb5e4a8>"
      ]
     },
     "metadata": {},
     "output_type": "display_data"
    }
   ],
   "source": [
    "# Description of the dataset\n",
    "print(\"The dataset contains {} elements.\".format(len(df)))\n",
    "print(\"It contains {} different variables.\".format(len(df.columns)))\n",
    "\n",
    "%matplotlib inline\n",
    "\n",
    "# Bar chart of the different property types\n",
    "plt.figure(figsize=(10, 5))\n",
    "plt.xlabel(\"Property Type\")\n",
    "plt.ylabel(\"Count\")\n",
    "plt.bar([\"Single Family\", \"Townhouse\", \"Condo\"], [counts[\"Single Family\"], counts[\"Townhouse\"], counts[\"Condo\"]]);\n",
    "\n",
    "plt.figure(figsize=(12, 5))\n",
    "heatmap = plt.pcolor(df.corr(), cmap=plt.cm.Blues, vmin=-1, vmax=1)\n",
    "labels = np.delete(df.columns.values, np.argwhere(df.columns.values == \"PropType\"))\n",
    "plt.xticks(np.arange(0.5, 15, step=1), df.columns.values.remove('PropType'), rotation=270)\n",
    "plt.yticks(np.arange(0.5, 15, step=1), df.columns.values)\n",
    "plt.colorbar(heatmap)\n",
    "plt.show()"
   ]
  },
  {
   "cell_type": "code",
   "execution_count": null,
   "metadata": {
    "collapsed": true
   },
   "outputs": [],
   "source": []
  }
 ],
 "metadata": {
  "kernelspec": {
   "display_name": "Python 3",
   "language": "python",
   "name": "python3"
  },
  "language_info": {
   "codemirror_mode": {
    "name": "ipython",
    "version": 3
   },
   "file_extension": ".py",
   "mimetype": "text/x-python",
   "name": "python",
   "nbconvert_exporter": "python",
   "pygments_lexer": "ipython3",
   "version": "3.6.3"
  }
 },
 "nbformat": 4,
 "nbformat_minor": 2
}
